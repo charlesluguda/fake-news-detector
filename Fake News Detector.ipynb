{
 "cells": [
  {
   "cell_type": "code",
   "execution_count": 3,
   "id": "499ff425",
   "metadata": {},
   "outputs": [
    {
     "name": "stderr",
     "output_type": "stream",
     "text": [
      "[nltk_data] Downloading package stopwords to\n",
      "[nltk_data]     C:\\Users\\user\\AppData\\Roaming\\nltk_data...\n",
      "[nltk_data]   Package stopwords is already up-to-date!\n"
     ]
    },
    {
     "data": {
      "text/plain": [
       "True"
      ]
     },
     "execution_count": 3,
     "metadata": {},
     "output_type": "execute_result"
    }
   ],
   "source": [
    "import numpy as np\n",
    "import pandas as pd\n",
    "import re\n",
    "from nltk.corpus import stopwords\n",
    "from nltk.stem.porter import PorterStemmer\n",
    "from sklearn.feature_extraction.text import TfidfVectorizer  # Corrected import\n",
    "from sklearn.model_selection import train_test_split\n",
    "from sklearn.linear_model import LogisticRegression\n",
    "from sklearn.metrics import accuracy_score\n",
    "\n",
    "import nltk\n",
    "nltk.download('stopwords')"
   ]
  },
  {
   "cell_type": "code",
   "execution_count": 9,
   "id": "ebb1a761",
   "metadata": {},
   "outputs": [
    {
     "name": "stdout",
     "output_type": "stream",
     "text": [
      "<bound method NDFrame.head of                                                    text  label\n",
      "0     Get the latest from TODAY Sign up for our news...      1\n",
      "1     2d  Conan On The Funeral Trump Will Be Invited...      1\n",
      "2     It’s safe to say that Instagram Stories has fa...      0\n",
      "3     Much like a certain Amazon goddess with a lass...      0\n",
      "4     At a time when the perfect outfit is just one ...      0\n",
      "...                                                 ...    ...\n",
      "4981  The storybook romance of WWE stars John Cena a...      0\n",
      "4982  The actor told friends he’s responsible for en...      0\n",
      "4983  Sarah Hyland is getting real.  The Modern Fami...      0\n",
      "4984  Production has been suspended on the sixth and...      0\n",
      "4985  A jury ruled against Bill Cosby in his sexual ...      0\n",
      "\n",
      "[4986 rows x 2 columns]>\n",
      "                                                   text\n",
      "0     Get the latest from TODAY Sign up for our news...\n",
      "1     2d  Conan On The Funeral Trump Will Be Invited...\n",
      "2     It’s safe to say that Instagram Stories has fa...\n",
      "3     Much like a certain Amazon goddess with a lass...\n",
      "4     At a time when the perfect outfit is just one ...\n",
      "...                                                 ...\n",
      "4981  The storybook romance of WWE stars John Cena a...\n",
      "4982  The actor told friends he’s responsible for en...\n",
      "4983  Sarah Hyland is getting real.  The Modern Fami...\n",
      "4984  Production has been suspended on the sixth and...\n",
      "4985  A jury ruled against Bill Cosby in his sexual ...\n",
      "\n",
      "[4986 rows x 1 columns]\n",
      "0       1\n",
      "1       1\n",
      "2       0\n",
      "3       0\n",
      "4       0\n",
      "       ..\n",
      "4981    0\n",
      "4982    0\n",
      "4983    0\n",
      "4984    0\n",
      "4985    0\n",
      "Name: label, Length: 4986, dtype: int64\n"
     ]
    }
   ],
   "source": [
    "#print(stopwords.words('english'))\n",
    "\n",
    "dataset = pd.read_csv('fakenews.csv')\n",
    "print(dataset.head)\n",
    "dataset.shape\n",
    "dataset.isnull().sum()\n",
    "\n",
    "X = dataset.drop(columns = 'label', axis = 1)\n",
    "Y = dataset['label']\n",
    "\n",
    "print(X)\n",
    "print(Y)"
   ]
  },
  {
   "cell_type": "code",
   "execution_count": 17,
   "id": "e2244651",
   "metadata": {},
   "outputs": [
    {
     "name": "stdout",
     "output_type": "stream",
     "text": [
      "0       get the latest from today sign up for our news...\n",
      "1       d conan on the funer trump will be invit to co...\n",
      "2       it s safe to say that instagram stori ha far s...\n",
      "3       much like a certain amazon goddess with a lass...\n",
      "4       at a time when the perfect outfit is just one ...\n",
      "                              ...                        \n",
      "4981    the storybook romanc of wwe star john cena and...\n",
      "4982    the actor told friend he s respon for encourag...\n",
      "4983    sarah hyland is get real the modern famili sta...\n",
      "4984    product ha been suspend on the sixth and final...\n",
      "4985    a juri rule against bill cosbi in hi sexual as...\n",
      "Name: text, Length: 4986, dtype: object\n",
      "['get the latest from today sign up for our newslett no one ever truli get over lose a love one and blake shelton is no except he wa just when hi older brother richi die on nov and as shelton note in a tweet monday it chang my life forev richi wa when he die in a car accid in the shelton home state of oklahoma two year ago shelton sent out a messag for the th anniversari of hi loss richi who wa blake s half brother they share a mother wa a passeng in a car that collid with a school bu in ada south of oklahoma citi richi driver redena mcmanu and a year old boy christoph mcmanu all die dure or shortli after the colli while the bu driver and passeng were uninjur accord to polic report the accid ha clearli remain with blake who told minut in i rememb pick up the phone to call him a week after he wa dead to tell him someth i wa pick up the phone to call him to tell him someth i just saw on tv or and it wa like constantli a shock to me that he wa dead blake shelton play at today s halloween extravaganza in new york citi on oct getti imag in blake and hi then wife miranda lambert wrote a singl call over you which wa inspir by richi still the two brother had bond despit the age differ both share a love of countri music hi bedroom wa right across the hallway from mine when i wa littl blake said in that interview and he wa listen to hank william jr or waylon lynyrd skynyrd or bob seeger i just whatev wa popular realli richi love all music and i would be sit there go man that guy s my hero that s the coolest guy he s my big brother follow rand dawn on twitter'\n",
      " 'd conan on the funer trump will be invit to conan on tb'\n",
      " 'it s safe to say that instagram stori ha far surpass it competitor snapchat in popular sinc it s incept two year ago and your favorit celebr have hop on the social media trend unlik a highli curat photo feed instagram stori is where celebr seem to be comfort enough to be raw and open need someth to do while you re wait in line or on a short break take a peek at these celebr instagram stori for some surprisingli engag entertain busi philipp busyphilipp a fantast stori teller busi wa dub by the new yorker as the breakout star of instagram stori she captur everyth from morn workout to paparazzi run in and everyth in between if it isn t on busi s stori i am assum it didn t happen mandi moor mandymooremm follow mandi moor for her mani thi is us behind the scene stori is worth it alon she also instastori her home be built and decor her mount kilimanjaro climb and the prepar behind all the hollywood red carpet event she s recent attend chrissi teigen chrissyteigen becau if you follow and love her on twitter and snapchat whi wouldn t you watch her instagram stori for more of her humor cook and ador daughter luna ree witherspoon reesewitherspoon ree may be one of the biggest star in the world but she is a down to earth breath of fresh air on her instagram stori sarah hyland sarahhyland somehow the modern famili star make eat dinner solo while watch the bachelor interest enough to keep watch candac cameron bure candacecbur i ve had a soft spot for candac sinc grow up with her on full hou and i am live for the resurg of her career follow candac for instagram stori about fashion famili workout and the behind the scene of her on movi and tv set eva chen evachen though she may be bia about use the platform sinc becom director of fashion partnership at instagram she s still one to watch eva chronicl her daili life from earli morn with her ador kid to intern fashion week event jessica alba jessicaalba thi new mama of three ador show how she juggl her home and work life and now that she is prepar to be back on tv there s sure to be some behind the scene sneak peek kristin cavallari kristincavallari from realiti tv to cookbook author and fashion design kristin share her own recip and ha just open her first brick and mortar for her fashion and home design line uncommon jame spencer pratt spencerpratt hear me out the hill alum may have a villain bad rap from hi minut of fame but hi instagram stori highlight hi famili life with hi month old son gunner and wife heidi hi mani obsess includ hummingbird work out coff and taylor swift'\n",
      " ...\n",
      " 'sarah hyland is get real the modern famili star took to instagram late thursday night to share a candid photo of herself in a hospit gown in honor of nation selfi day sometim a selfi is more than just a good angl or feelin cute thi time for nationalselfieday i ve decid to share my truth as pain as it is she caption the shock imag so here is my face that wa torn from work against my will but i m veri grate it wa health should alway come first hyland ad stayhealthymyfriend befor share a video of herself just hour befor her hospit as her dog lick her face thi wa taken thi past sunday day befor hospit she wa liter tell me to get treatment hyland wrote can t wait to come back to my preciou angel princess she s perfect and know exactli what i need at all time instagram instagram while hyland did not reveal the cau of her hospit sourc tell et that she s out of the hospit and do better she previou open up about her health struggl on social media in march she tweet for those who are chronic ill and in chronic pain have you had the experi of doctor not listen to you if so how do you not tear their head off with your bare hand the year old actress wa diagno with kidney dysplasia as a child and receiv a kidney transplant in hyland spoke with et about her health at thi year s women s march in lo angel where her boyfriend well adam wa by her side for support hear what she had to say in the video below et ha reach out to hyland s rep for comment relat content sarah hyland say doctor not listen to complaint over her chronic pain sarah hyland reveal whi it work with boyfriend well adam we re the same person exclu well adam celebr girlfriend sarah hyland s birthday with an incr bachelor style date relat galleri'\n",
      " 'product ha been suspend on the sixth and final season of netflix s hou of card amid the kevin spacey sexual assault scandal deadlin report that netflix and produc media right capit told them mrc and netflix have decid to suspend product on hou of card season six until further notic to give us time to review the current situat and to address ani concern of our cast and crew thi come after monday s news that show would end next year for it sixth season and just befor that actor anthoni rapp accu spacey of sexual assault when he wa year old in product on the sixth season had alreadi begun prior to thi all in anoth statement yesterday about the spacey alleg the two compani said media right capit and netflix are deepli troubl by last night s news concern kevin spacey hou of card consid to be one of the biggest moment in the career of spacey and robin wright also increa the visibl of mahershala ali in mainstream entertain wa netflix s first major origin seri product set the stage for what we know now to be the game chang stream giant hollywood ha seen a floodgat of accu with victim come forward speak about their stori after the harvey weinstein debacl'\n",
      " 'a juri rule against bill cosbi in hi sexual assault retrial on thursday find him guilti for aggrav indec assault in all three count brought against him by andrea constand the entertain now face the possibl of spend the rest of hi life in prison while cosbi show no visibl reaction to the verdict he did react loudli when district attorney kevin steel call for the entertain s bail to be revok say that cosbi had hi own plane and could flee he doesn t have hi own plane you a hole the man onc known as america s dad shout provok gasp in the hush courtroom o neill admonish the entertain but did not revok bail cosbi now wa found guilti of all three count of aggrav indec assault each count carri a maximum penalti of up to year in prison sentenc is expect later thi year and it could be a forum for some of the more than other women who have said they were sexual assault by cosbi cosbi wa charg with drug and molest andrea constand who wa oper manag of the women s basketb team at templ univ at hi home outsid philadelphia back in januari cosbi contend the sexual contact wa consensu relat gretchen carlson on how her roger ail lawsuit affect the cosbi case kevin spacey face feloni sexual assault charg post bizarr video the juri s announc deliv in a hush courtroom at p m mark the stun end to the first celebr trial in the heat atmosph of the metoo movement the panel of seven men and five women includ two african american began delib on the case on wednesday morn and announc the verdict on the th day of the retrial at a news confer later steel said that constand by come forward with her accu wa a major factor in the metoo movement and he said he hope the verdict would help embolden other victim of sexual assault we hope thi case send a strong messag that victim of these type of crime can come forward and be heard said steel as constand stood quietli a few feet away steel said cosbi wa potenti face year in prison but he declin to say what type of sentenc he would seek he suggest that he would seek a substanti fine note that cosbi s legal team had describ the civil settlement of nearli million that cosbi had paid in a lawsuit brought by constand as a paltri sum cosbi ha been accu of sexual assault by dozen of women in the past few year but constand s alleg are the onli one that becam the subject of a crimin case the charg against cosbi were file on dec just day befor the year statut of limit wa due to expir the trial drew a number of the other cosbi accu to the courthou and one of them broke down in tear and left the courtroom when the juri forewoman disclo the guilti verdict the charg were first brought to trial last june but the juri end in a deadlock on all charg after more than hour of delib the year old entertain wa accu by constand the former oper manag of the women s basketb team at templ univ of drug and molest her in januari constand said she becam close with cosbi who wa a major support of the univ and view him as a mentor she alleg that he abu her trust howev when he invit her to hi home in montgomeri counti and offer her three blue pill to help her relax she testifi that she took the pill becau she trust cosbi and believ they were some kind of an herbal relax and soon becam incapacit then she said she felt hi finger insid of her but couldn t fight him off late wednesday juror ask for a re read of cosbi s deposit in the civil lawsuit brought against him by constand who receiv a settlement of nearli million in the deposit cosbi describ the move he put on constand on the night in question cosbi also acknowledg that mani year befor he use to give quaalud to women he want to have sex with cosbi left the courtroom without comment and hi defen team had noth to say on the way out of court hi lead defen attorney thoma mesereau had success defend michael jackson against child molest charg in the team had mount a strong defen on behalf of the entertain the onc rever entertain is the onli major celebr to face a juri amid the grow cultur awar of the problem of sexual assault in less than a year dozen of rich and power men have been accu of sexual harass or assault as more women have decid to publicli address the issu while constand had no public reaction to the verdict her lawyer dolor troiani thank the team of law enforc offic and prosecutor for take on such a power man she said that constand had first file the complaint against cosbi year ago and that it had taken all that time for her to obtain justic although justic wa delay it wa not deni said troiani she said it ha taken constand a long time to deal with what had happen to her that s someth that she had to work out everi day sinc januari said troiani thi is a life alter experi for ani victim lawyer gloria allr who repr a number of the women who say cosbi sexual assault them said the verdict wa a victori for the victim after all is said and done women were final believ said allr follow the guilti verdict network bounc tv announc that it wa pull all rerun of the cosbi show from it schedul popular video on varieti com']\n",
      "[1 1 0 ... 0 0 0]\n"
     ]
    }
   ],
   "source": [
    "# Define stemming function\n",
    "def stemming(text):\n",
    "    stemmer = PorterStemmer()\n",
    "    words = text.split()\n",
    "    stemmed_words = [stemmer.stem(word) for word in words]\n",
    "    return ' '.join(stemmed_words)\n",
    "\n",
    "dataset['text'] = dataset['text'].apply(stemming)\n",
    "print(dataset['text'])\n",
    "\n",
    "X = dataset['text'].values\n",
    "Y = dataset['label'].values\n",
    "\n",
    "print(X)\n",
    "print(Y)"
   ]
  },
  {
   "cell_type": "code",
   "execution_count": 30,
   "id": "ea8028c7",
   "metadata": {},
   "outputs": [
    {
     "name": "stdout",
     "output_type": "stream",
     "text": [
      "Accuracy of the model is  0.8425275827482447\n",
      "[0]\n",
      "The news is real\n"
     ]
    }
   ],
   "source": [
    "X_train, X_test, Y_train, Y_test = train_test_split(X, Y, test_size = 0.2, stratify = Y, random_state = 2)\n",
    "\n",
    "model = LogisticRegression()\n",
    "model.fit(X_train, Y_train)\n",
    "\n",
    "prediction = model.predict(X_train)\n",
    "accuracy = accuracy_score(prediction, Y_train)\n",
    "print(\"Accuracy of the model is \",accuracy)\n",
    "\n",
    "X_news = X_test[4]\n",
    "prediction = model.predict(X_news)\n",
    "print(prediction)\n",
    "\n",
    "if(prediction[0] == 0):\n",
    "    print(\"The news is real\")\n",
    "else:\n",
    "    print(\"The news is fake\")"
   ]
  },
  {
   "cell_type": "code",
   "execution_count": null,
   "id": "a95c55a1",
   "metadata": {},
   "outputs": [],
   "source": []
  }
 ],
 "metadata": {
  "kernelspec": {
   "display_name": "Python 3 (ipykernel)",
   "language": "python",
   "name": "python3"
  },
  "language_info": {
   "codemirror_mode": {
    "name": "ipython",
    "version": 3
   },
   "file_extension": ".py",
   "mimetype": "text/x-python",
   "name": "python",
   "nbconvert_exporter": "python",
   "pygments_lexer": "ipython3",
   "version": "3.11.5"
  }
 },
 "nbformat": 4,
 "nbformat_minor": 5
}
